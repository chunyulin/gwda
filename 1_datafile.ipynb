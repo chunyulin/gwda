{
 "cells": [
  {
   "cell_type": "code",
   "execution_count": null,
   "metadata": {},
   "outputs": [],
   "source": [
    "## This notebook shows the data structure of our whiten template HDF file"
   ]
  },
  {
   "cell_type": "code",
   "execution_count": 4,
   "metadata": {},
   "outputs": [],
   "source": [
    "#H5_FILE=\"white_h_4096_dm2.h5\"   # lower sampling rate ~ 64 MB, the 'dm' is the interval of mass in building the template bank  \n",
    "#H5_FILE=\"white_h_8192_dm1.h5\"   # <-- This one is what in Huerta's paper, which ~500 MB\n",
    "H5_FILE=\"white_h_8192_dm2.h5\"    # ~ 125 MB"
   ]
  },
  {
   "cell_type": "code",
   "execution_count": 19,
   "metadata": {},
   "outputs": [
    {
     "name": "stdout",
     "output_type": "stream",
     "text": [
      "======= HDF Attributes:\n",
      "[(u'merger_idx', 0), (u'srate', 8192)]\n",
      "======= HDF arrays:\n",
      "[(u'merger_idx', 0), (u'srate', 8192)]\n",
      "(u'test_hc', <HDF5 dataset \"test_hc\": shape (654, 8192), type \"<f4\">)\n",
      "(u'test_hp', <HDF5 dataset \"test_hp\": shape (654, 8192), type \"<f4\">)\n",
      "(u'test_m1', <HDF5 dataset \"test_m1\": shape (654,), type \"<f4\">)\n",
      "(u'test_m2', <HDF5 dataset \"test_m2\": shape (654,), type \"<f4\">)\n",
      "(u'train_hc', <HDF5 dataset \"train_hc\": shape (685, 8192), type \"<f4\">)\n",
      "(u'train_hp', <HDF5 dataset \"train_hp\": shape (685, 8192), type \"<f4\">)\n",
      "(u'train_m1', <HDF5 dataset \"train_m1\": shape (685,), type \"<f4\">)\n",
      "(u'train_m2', <HDF5 dataset \"train_m2\": shape (685,), type \"<f4\">)\n",
      "(u'val_hc', <HDF5 dataset \"val_hc\": shape (658, 8192), type \"<f4\">)\n",
      "(u'val_hp', <HDF5 dataset \"val_hp\": shape (658, 8192), type \"<f4\">)\n",
      "(u'val_m1', <HDF5 dataset \"val_m1\": shape (658,), type \"<f4\">)\n",
      "(u'val_m2', <HDF5 dataset \"val_m2\": shape (658,), type \"<f4\">)\n"
     ]
    }
   ],
   "source": [
    "###\n",
    "### See what we have in this file\n",
    "###\n",
    "\n",
    "import h5py as h5\n",
    "f = h5.File(H5_FILE,'r')\n",
    "\n",
    "print (\"======= HDF Attributes:\")\n",
    "#  1) merger_idx (ignore this) \n",
    "#  2) sampling rate \n",
    "print (f.attrs.items())\n",
    "\n",
    "print (\"======= HDF arrays:\")\n",
    "print (f.attrs.items())\n",
    "for i in f.items():\n",
    "    print (i)\n",
    "# we have training/validation/test dataset, each set contain two polarization of GW, and also the binary mass\n",
    "   \n",
    "f.close()\n"
   ]
  },
  {
   "cell_type": "code",
   "execution_count": 20,
   "metadata": {},
   "outputs": [
    {
     "data": {
      "image/png": "[encoded data removed]",
      "text/plain": [
       "<Figure size 576x576 with 1 Axes>"
      ]
     },
     "metadata": {},
     "output_type": "display_data"
    },
    {
     "name": "stdout",
     "output_type": "stream",
     "text": [
      "('# of whiten waveform for each set: ', 685)\n"
     ]
    }
   ],
   "source": [
    "### Now, visualize the dataset \n",
    "import h5py as h5\n",
    "import matplotlib.pyplot as plt\n",
    "%matplotlib inline\n",
    "\n",
    "f = h5.File(H5_FILE,'r')\n",
    "m1t = f['train_m1']\n",
    "m2t = f['train_m2']\n",
    "m1v = f['val_m1']\n",
    "m2v = f['val_m2']\n",
    "\n",
    "plt.figure(figsize=(8,8))\n",
    "plt.plot(m2t, m1t, 'r.', markersize=2, label=\"Training\")\n",
    "plt.plot(m2v, m1v, 'b.', markersize=2, label=\"Validation\")\n",
    "plt.axes().set_aspect('equal')\n",
    "plt.legend()\n",
    "plt.show()\n",
    "\n",
    "print (\"# of whiten waveform for each set: \", len(f['train_hp']))\n",
    "\n",
    "f.close()"
   ]
  },
  {
   "cell_type": "code",
   "execution_count": null,
   "metadata": {},
   "outputs": [],
   "source": []
  }
 ],
 "metadata": {
  "kernelspec": {
   "display_name": "Python 2",
   "language": "python",
   "name": "python2"
  }
 },
 "nbformat": 4,
 "nbformat_minor": 2
}
