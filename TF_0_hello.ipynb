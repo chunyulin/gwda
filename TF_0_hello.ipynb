{
 "cells": [
  {
   "cell_type": "code",
   "execution_count": 1,
   "metadata": {},
   "outputs": [
    {
     "name": "stderr",
     "output_type": "stream",
     "text": [
      "/home/lincy/.local/lib/python2.7/site-packages/h5py/__init__.py:36: FutureWarning: Conversion of the second argument of issubdtype from `float` to `np.floating` is deprecated. In future, it will be treated as `np.float64 == np.dtype(float).type`.\n",
      "  from ._conv import register_converters as _register_converters\n"
     ]
    },
    {
     "name": "stdout",
     "output_type": "stream",
     "text": [
      "('Using Tensorflow: ', '1.6.0')\n",
      "[name: \"/device:CPU:0\"\n",
      "device_type: \"CPU\"\n",
      "memory_limit: 268435456\n",
      "locality {\n",
      "}\n",
      "incarnation: 16251905635672263848\n",
      ", name: \"/device:GPU:0\"\n",
      "device_type: \"GPU\"\n",
      "memory_limit: 108331008\n",
      "locality {\n",
      "  bus_id: 1\n",
      "}\n",
      "incarnation: 18089538405850170452\n",
      "physical_device_desc: \"device: 0, name: GeForce GTX 1060 6GB, pci bus id: 0000:03:00.0, compute capability: 6.1\"\n",
      ", name: \"/device:GPU:1\"\n",
      "device_type: \"GPU\"\n",
      "memory_limit: 241565696\n",
      "locality {\n",
      "  bus_id: 2\n",
      "}\n",
      "incarnation: 8270135198320549881\n",
      "physical_device_desc: \"device: 1, name: GeForce GTX 1060 6GB, pci bus id: 0000:84:00.0, compute capability: 6.1\"\n",
      "]\n"
     ]
    }
   ],
   "source": [
    "###\n",
    "###  First, check your TF version and the hardware enviorment\n",
    "###\n",
    "import tensorflow as tf\n",
    "from tensorflow.python.client import device_lib\n",
    "\n",
    "print (\"Using Tensorflow: \", tf.__version__)\n",
    "print ( device_lib.list_local_devices() )\n"
   ]
  },
  {
   "cell_type": "code",
   "execution_count": 2,
   "metadata": {},
   "outputs": [
    {
     "name": "stdout",
     "output_type": "stream",
     "text": [
      "Fri Jun  1 00:41:12 2018       \r\n",
      "+-----------------------------------------------------------------------------+\r\n",
      "| NVIDIA-SMI 390.30                 Driver Version: 390.30                    |\r\n",
      "|-------------------------------+----------------------+----------------------+\r\n",
      "| GPU  Name        Persistence-M| Bus-Id        Disp.A | Volatile Uncorr. ECC |\r\n",
      "| Fan  Temp  Perf  Pwr:Usage/Cap|         Memory-Usage | GPU-Util  Compute M. |\r\n",
      "|===============================+======================+======================|\r\n",
      "|   0  GeForce GTX 106...  Off  | 00000000:03:00.0 Off |                  N/A |\r\n",
      "| 28%   28C    P2    28W / 120W |   5854MiB /  6078MiB |      0%      Default |\r\n",
      "+-------------------------------+----------------------+----------------------+\r\n",
      "|   1  GeForce GTX 106...  Off  | 00000000:84:00.0 Off |                  N/A |\r\n",
      "| 28%   27C    P2    27W / 120W |   5854MiB /  6078MiB |      0%      Default |\r\n",
      "+-------------------------------+----------------------+----------------------+\r\n",
      "                                                                               \r\n",
      "+-----------------------------------------------------------------------------+\r\n",
      "| Processes:                                                       GPU Memory |\r\n",
      "|  GPU       PID   Type   Process name                             Usage      |\r\n",
      "|=============================================================================|\r\n",
      "|    0      2195      G   /usr/bin/X                                    13MiB |\r\n",
      "|    0     35856      C   /usr/bin/python2                            5597MiB |\r\n",
      "|    0     40804      C   /usr/bin/python2                             223MiB |\r\n",
      "|    1      2195      G   /usr/bin/X                                    12MiB |\r\n",
      "|    1     35856      C   /usr/bin/python2                            5471MiB |\r\n",
      "|    1     40804      C   /usr/bin/python2                             351MiB |\r\n",
      "+-----------------------------------------------------------------------------+\r\n"
     ]
    }
   ],
   "source": [
    "### First, check GPU status if you have a GPU \n",
    "!nvidia-smi"
   ]
  },
  {
   "cell_type": "code",
   "execution_count": 3,
   "metadata": {},
   "outputs": [
    {
     "name": "stdout",
     "output_type": "stream",
     "text": [
      "8.0\n",
      "0.98935825\n",
      "[[5. 5. 5.]\n",
      " [5. 5. 5.]]\n"
     ]
    }
   ],
   "source": [
    "###\n",
    "### Variables, Constant, Placeholders\n",
    "###\n",
    "import tensorflow as tf\n",
    "tf.reset_default_graph()\n",
    "\n",
    "## create a variable of rank-3 zero tensor  \n",
    "# GraphKeys can be such as:\n",
    "#   GLOBAL_VARIABLES\n",
    "#   LOCAL_VARIABLES\n",
    "#   TRAINABLE_VARIABLES, or control by \"trainable=False\"\n",
    "#\n",
    "var = tf.get_variable(\"var\", shape=[2, 3], dtype=tf.float32, \n",
    "         initializer=tf.zeros_initializer, collections=[tf.GraphKeys.LOCAL_VARIABLES])\n",
    "\n",
    "with tf.variable_scope(\"ABC\"):\n",
    "    a = tf.add(3, 5)\n",
    "    a = tf.cast(a, tf.float32) \n",
    "\n",
    "sess = tf.Session()\n",
    "sess.run(tf.global_variables_initializer())\n",
    "print (sess.run(a) )\n",
    "print (sess.run( tf.sin(a) ))\n",
    "\n",
    "sess.run(tf.local_variables_initializer())\n",
    "var = (var + 1.0 )*5\n",
    "print (sess.run(var))\n",
    "\n",
    "\n",
    "\n",
    "sess.close()\n"
   ]
  },
  {
   "cell_type": "code",
   "execution_count": 4,
   "metadata": {},
   "outputs": [
    {
     "name": "stdout",
     "output_type": "stream",
     "text": [
      "[[22. 28.]\n",
      " [49. 64.]]\n"
     ]
    }
   ],
   "source": [
    "### For advanced feature, we can specify which device to be used. \n",
    "### This is only for futher development of distributed training.\n",
    "###\n",
    "### We can program TF just like a complex MPI program with C.\n",
    "###  \n",
    "import tensorflow as tf\n",
    "from tensorflow.python.client import device_lib\n",
    "\n",
    "# Creates a graph.\n",
    "with tf.device('/gpu:0'):\n",
    "    a = tf.constant([1.0, 2.0, 3.0, 4.0, 5.0, 6.0], shape=[2,3],name='a')\n",
    "    b = tf.constant([1.0, 2.0, 3.0, 4.0, 5.0, 6.0], shape=[3,2],name='b')\n",
    "    c = tf.matmul(a, b)\n",
    "\n",
    "sess = tf.Session(config=tf.ConfigProto(log_device_placement=True))\n",
    "print (sess.run(c) )"
   ]
  },
  {
   "cell_type": "code",
   "execution_count": 5,
   "metadata": {},
   "outputs": [
    {
     "name": "stdout",
     "output_type": "stream",
     "text": [
      "[array([[0.5],\n",
      "       [0.5]], dtype=float32)]\n"
     ]
    }
   ],
   "source": [
    "###\n",
    "###  Build a simple a perceptron model -- logistic regression (sigmoid)\n",
    "###\n",
    "import tensorflow as tf\n",
    "tf.reset_default_graph()\n",
    "\n",
    "IN_DIM = 3\n",
    "OUT_DIM = 1\n",
    "x = tf.placeholder(tf.float32, [None, IN_DIM])\n",
    "y = tf.placeholder(tf.float32, [None, OUT_DIM])\n",
    "\n",
    "W  = tf.Variable(tf.zeros([IN_DIM, OUT_DIM]), name=\"W\")\n",
    "b  = tf.Variable(tf.zeros([OUT_DIM]),         name=\"b\")\n",
    "\n",
    "output  = tf.sigmoid(tf.matmul(x, W) + b)\n",
    "\n",
    "xdata = [  [1.,2.,3.],\n",
    "           [1.,2.,3.]   ]  ## input data with batch size = 2\n",
    "#xdata2 = tf.ones_like(xdata)\n",
    "\n",
    "\n",
    "\n",
    "with tf.Session() as sess:\n",
    "    sess.run(tf.global_variables_initializer())\n",
    "    out = sess.run([output], feed_dict={x: xdata}  )   #  2 outputs \n",
    "    print (out)"
   ]
  },
  {
   "cell_type": "code",
   "execution_count": null,
   "metadata": {},
   "outputs": [],
   "source": []
  }
 ],
 "metadata": {
  "kernelspec": {
   "display_name": "Python 2",
   "language": "python",
   "name": "python2"
  },
  "language_info": {
   "codemirror_mode": {
    "name": "ipython",
    "version": 2
   },
   "file_extension": ".py",
   "mimetype": "text/x-python",
   "name": "python",
   "nbconvert_exporter": "python",
   "pygments_lexer": "ipython2",
   "version": "2.7.5"
  }
 },
 "nbformat": 4,
 "nbformat_minor": 2
}
